{
 "cells": [
  {
   "cell_type": "markdown",
   "metadata": {},
   "source": [
    "# Analysis of fingerprint segmentation results"
   ]
  },
  {
   "cell_type": "code",
   "execution_count": 1,
   "metadata": {},
   "outputs": [],
   "source": [
    "import tensorflow as tf\n",
    "import cv2 as cv\n",
    "from utils import show\n",
    "from ipywidgets import interact\n",
    "from IPython.display import clear_output\n",
    "import json\n",
    "\n",
    "import os, sys\n",
    "sys.path.append(os.path.dirname(os.path.realpath(\".\"))) # add parent path to import the pyfing package of this project\n",
    "\n",
    "import pyfing as pf"
   ]
  },
  {
   "cell_type": "code",
   "execution_count": 2,
   "metadata": {},
   "outputs": [],
   "source": [
    "PATH_FVC = '../../datasets/'\n",
    "PATH_GT = '../../datasets/segmentationbenchmark/groundtruth/'\n",
    "PATH_RES = '../../results/'\n",
    "PATH_PARAMS = '../parameters/segmentation/'"
   ]
  },
  {
   "cell_type": "code",
   "execution_count": 4,
   "metadata": {},
   "outputs": [],
   "source": [
    "alg = pf.Gmfs()\n",
    "#alg = pf.Sufs(models_folder=\"../models/\")\n",
    "results = None\n",
    "year = 2000\n",
    "db = 1\n",
    "subset = 'a'"
   ]
  },
  {
   "cell_type": "code",
   "execution_count": 7,
   "metadata": {},
   "outputs": [
    {
     "data": {
      "application/vnd.jupyter.widget-view+json": {
       "model_id": "229289d74a92407086d418f759a779bf",
       "version_major": 2,
       "version_minor": 0
      },
      "text/plain": [
       "interactive(children=(Dropdown(description='y', options=(2000, 2002, 2004), value=2000), Dropdown(description=…"
      ]
     },
     "metadata": {},
     "output_type": "display_data"
    }
   ],
   "source": [
    "@interact(y=[2000,2002,2004], n=[1,2,3,4])\n",
    "def choose_db(y=year, n=db):\n",
    "    global results, year, db\n",
    "    year, db = y, n\n",
    "    with open(f'{PATH_RES}fvc{year}_db{db}_{subset}_{type(alg).__name__}_res.txt', 'r') as filehandle:\n",
    "        results = json.load(filehandle)\n",
    "\n",
    "    results = sorted(results, key=lambda r: r[2][0])\n",
    "    alg.parameters = alg.parameters.load(f'{PATH_PARAMS}fvc{year}_db{db}_b_{type(alg).__name__}_params.json')\n"
   ]
  },
  {
   "cell_type": "code",
   "execution_count": 17,
   "metadata": {},
   "outputs": [
    {
     "data": {
      "application/vnd.jupyter.widget-view+json": {
       "model_id": "1adb0643a069455098496abe2dfdd74c",
       "version_major": 2,
       "version_minor": 0
      },
      "text/plain": [
       "interactive(children=(IntSlider(value=0, description='i', max=799), Output()), _dom_classes=('widget-interact'…"
      ]
     },
     "metadata": {},
     "output_type": "display_data"
    }
   ],
   "source": [
    "@interact(i=(0, len(results)-1))\n",
    "def show_result(i=0):\n",
    "    i, j, (er, dc, jc) = results[i]\n",
    "    img = cv.imread(f'{PATH_FVC}fvc{year}/db{db}_{subset}/{i}_{j}.png', cv.IMREAD_GRAYSCALE)\n",
    "    gt = cv.bitwise_not(cv.imread(f'{PATH_GT}fvc{year}_db{db}_im_{i}_{j}seg.png', cv.IMREAD_GRAYSCALE))\n",
    "    mask = alg.run(img)\n",
    "    contours, _ = cv.findContours(mask, cv.RETR_LIST, cv.CHAIN_APPROX_SIMPLE)\n",
    "    gt_contours, _ = cv.findContours(gt, cv.RETR_LIST, cv.CHAIN_APPROX_SIMPLE)    \n",
    "    img_bgr = cv.cvtColor(img, cv.COLOR_GRAY2BGR)\n",
    "    img_res = cv.drawContours(img_bgr.copy(), contours, -1, (255,0,0), 5)\n",
    "    img_gt = cv.drawContours(img_bgr.copy(), gt_contours, -1, (0,192,0), 3)\n",
    "    img_err = img_bgr.copy()\n",
    "    false_positives = cv.bitwise_and(mask, cv.bitwise_not(gt))\n",
    "    false_negatives = cv.bitwise_and(cv.bitwise_not(mask), gt)\n",
    "    img_err[false_positives == 255,1:3] //= 2\n",
    "    img_err[false_negatives == 255,0:3:2] //= 2\n",
    "    cv.drawContours(img_err, gt_contours, -1, (0,192,0), 3)\n",
    "    cv.drawContours(img_err, contours, -1, (255,0,0), 5)\n",
    "    show((img_res, f'{i}_{j}'), (img_gt, 'Ground truth'), (img_err, f'ER = {er:.2f}% DC = {dc:.2f} JC = {jc:.2f}'))"
   ]
  },
  {
   "cell_type": "code",
   "execution_count": null,
   "metadata": {},
   "outputs": [],
   "source": []
  }
 ],
 "metadata": {
  "kernelspec": {
   "display_name": "Python 3 (ipykernel)",
   "language": "python",
   "name": "python3"
  },
  "language_info": {
   "codemirror_mode": {
    "name": "ipython",
    "version": 3
   },
   "file_extension": ".py",
   "mimetype": "text/x-python",
   "name": "python",
   "nbconvert_exporter": "python",
   "pygments_lexer": "ipython3",
   "version": "3.9.17"
  }
 },
 "nbformat": 4,
 "nbformat_minor": 4
}
