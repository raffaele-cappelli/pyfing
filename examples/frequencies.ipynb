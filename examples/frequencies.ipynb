{
 "cells": [
  {
   "cell_type": "markdown",
   "metadata": {},
   "source": [
    "# Fingerprint frequency estimation module"
   ]
  },
  {
   "cell_type": "code",
   "execution_count": null,
   "metadata": {},
   "outputs": [],
   "source": [
    "import numpy as np\n",
    "import cv2 as cv\n",
    "from ipywidgets import interact\n",
    "import pyfing as pf\n",
    "from pyfing.utils.ffe import load_ffe_dataset\n",
    "from pyfing.frequencies import compute_ridge_period_MAPE\n",
    "from pyfing.utils.notebook import show\n",
    "from pyfing.utils.drawing import draw_orientations, draw_frequencies"
   ]
  },
  {
   "cell_type": "code",
   "execution_count": null,
   "metadata": {},
   "outputs": [],
   "source": [
    "# Paths\n",
    "PATH_FFE = '../../datasets/FFE/'"
   ]
  },
  {
   "cell_type": "markdown",
   "metadata": {},
   "source": [
    "## 1. Basic examples"
   ]
  },
  {
   "cell_type": "markdown",
   "metadata": {},
   "source": [
    "Example: fingerprint segmentation with GMFS, orientation estimation with GBFOE, and frequency estimation with XSFFE."
   ]
  },
  {
   "cell_type": "code",
   "execution_count": null,
   "metadata": {},
   "outputs": [],
   "source": [
    "fingerprint = cv.imread(PATH_FFE + 'Good/110.png', cv.IMREAD_GRAYSCALE)\n",
    "gmfs = pf.Gmfs()\n",
    "gbfoe = pf.Gbfoe()\n",
    "xsffe = pf.Xsffe()\n",
    "segmentation_mask = gmfs.run(fingerprint)\n",
    "orientations, _ = gbfoe.run(fingerprint, segmentation_mask)\n",
    "frequencies = xsffe.run(fingerprint, segmentation_mask, orientations)\n",
    "show(fingerprint, segmentation_mask, \n",
    "     draw_orientations(fingerprint, orientations, segmentation_mask, 1, 8, (0,255,0)),\n",
    "     draw_frequencies(fingerprint, frequencies, segmentation_mask))"
   ]
  },
  {
   "cell_type": "markdown",
   "metadata": {},
   "source": [
    "Example: fingerprint segmentation with SUFS, orientation estimation with SNFOE, and frequency estimation with SNFFE."
   ]
  },
  {
   "cell_type": "code",
   "execution_count": null,
   "metadata": {},
   "outputs": [],
   "source": [
    "fingerprint = cv.imread(PATH_FFE + 'Bad/00.png', cv.IMREAD_GRAYSCALE)\n",
    "sufs = pf.Sufs()\n",
    "snfoe = pf.Snfoe()\n",
    "snffe = pf.Snffe()\n",
    "segmentation_mask = sufs.run(fingerprint)\n",
    "orientations, _ = snfoe.run(fingerprint, segmentation_mask)\n",
    "frequencies = snffe.run(fingerprint, segmentation_mask, orientations)\n",
    "show(fingerprint, segmentation_mask, \n",
    "     draw_orientations(fingerprint, orientations, segmentation_mask, 1, 16, (0,255,0)),\n",
    "     draw_frequencies(fingerprint, frequencies, segmentation_mask))"
   ]
  },
  {
   "cell_type": "markdown",
   "metadata": {},
   "source": [
    "## 2. Comparison with the ground truth"
   ]
  },
  {
   "cell_type": "code",
   "execution_count": null,
   "metadata": {},
   "outputs": [],
   "source": [
    "ffe_bad = load_ffe_dataset(PATH_FFE, 'Bad')"
   ]
  },
  {
   "cell_type": "code",
   "execution_count": null,
   "metadata": {},
   "outputs": [],
   "source": [
    "@interact(i=(0,49))\n",
    "def test_ffe_bad(i=0):\n",
    "    f, m, o, gt_rp = ffe_bad[i]\n",
    "    rp = snffe.run(f, m, o)\n",
    "    mape = compute_ridge_period_MAPE(rp, gt_rp, m)\n",
    "    show((f, f'{i}'), (draw_frequencies(f, rp, m), f'MAPE={mape:.2f}%'))"
   ]
  }
 ],
 "metadata": {
  "kernelspec": {
   "display_name": "Python 3",
   "language": "python",
   "name": "python3"
  },
  "language_info": {
   "codemirror_mode": {
    "name": "ipython",
    "version": 3
   },
   "file_extension": ".py",
   "mimetype": "text/x-python",
   "name": "python",
   "nbconvert_exporter": "python",
   "pygments_lexer": "ipython3",
   "version": "3.10.12"
  }
 },
 "nbformat": 4,
 "nbformat_minor": 4
}
