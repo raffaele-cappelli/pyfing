{
 "cells": [
  {
   "cell_type": "markdown",
   "metadata": {},
   "source": [
    "# Fingerprint segmentation module"
   ]
  },
  {
   "cell_type": "code",
   "execution_count": null,
   "metadata": {},
   "outputs": [],
   "source": [
    "import numpy as np\n",
    "import cv2 as cv\n",
    "from ipywidgets import interact\n",
    "import pyfing as pf\n",
    "from pyfing.utils.notebook import show"
   ]
  },
  {
   "cell_type": "code",
   "execution_count": null,
   "metadata": {},
   "outputs": [],
   "source": [
    "# Paths\n",
    "PATH_FVC = '../../datasets/'\n",
    "PATH_PARAMS = '../parameters/segmentation/'\n",
    "PATH_GT = '../../datasets/segmentationbenchmark/groundtruth/'"
   ]
  },
  {
   "cell_type": "markdown",
   "metadata": {},
   "source": [
    "## 1. Basic examples"
   ]
  },
  {
   "cell_type": "markdown",
   "metadata": {},
   "source": [
    "Example: fingerprint segmentation using the default parameters."
   ]
  },
  {
   "cell_type": "code",
   "execution_count": null,
   "metadata": {},
   "outputs": [],
   "source": [
    "fingerprint = cv.imread(PATH_FVC + 'fvc2000/db2_b/101_1.png', cv.IMREAD_GRAYSCALE)\n",
    "alg = pf.Gmfs()\n",
    "#alg = pf.Sufs(models_folder = \"../models/\")\n",
    "mask = alg.run(fingerprint)\n",
    "show(fingerprint, mask, cv.merge((fingerprint, mask, fingerprint)))"
   ]
  },
  {
   "cell_type": "markdown",
   "metadata": {},
   "source": [
    "Example: segmentation with parameters loaded from file."
   ]
  },
  {
   "cell_type": "code",
   "execution_count": null,
   "metadata": {},
   "outputs": [],
   "source": [
    "alg.parameters = alg.parameters.load(PATH_PARAMS + f'fvc2000_db3_b_{type(alg).__name__}_params.json')\n",
    "fingerprint = cv.imread(PATH_FVC + 'fvc2000/db3_b/110_1.png', cv.IMREAD_GRAYSCALE)\n",
    "mask = alg.run(fingerprint)\n",
    "show(fingerprint, mask, cv.merge((fingerprint, mask, fingerprint)))"
   ]
  },
  {
   "cell_type": "markdown",
   "metadata": {},
   "source": [
    "Showing intermediate steps of the segmentation algorithm:"
   ]
  },
  {
   "cell_type": "code",
   "execution_count": null,
   "metadata": {},
   "outputs": [],
   "source": [
    "intermediate_results = []\n",
    "mask = alg.run(fingerprint, intermediate_results)\n",
    "show(fingerprint, *intermediate_results, mask)"
   ]
  },
  {
   "cell_type": "markdown",
   "metadata": {},
   "source": [
    "## 2. Comparison with the groud truth"
   ]
  },
  {
   "cell_type": "markdown",
   "metadata": {},
   "source": [
    "Comparing a segmentation result with the corresponding ground truth mask loaded from file."
   ]
  },
  {
   "cell_type": "code",
   "execution_count": null,
   "metadata": {},
   "outputs": [],
   "source": [
    "gt_mask = cv.bitwise_not(cv.imread(PATH_GT + 'fvc2000_db3_im_110_1seg.png', cv.IMREAD_GRAYSCALE))\n",
    "show(fingerprint, mask, gt_mask, cv.bitwise_xor(mask, gt_mask))"
   ]
  },
  {
   "cell_type": "markdown",
   "metadata": {},
   "source": [
    "For each fingerprint, the error is defined as the percentage of misclassified pixels with respect to the corresponding ground truth:"
   ]
  },
  {
   "cell_type": "code",
   "execution_count": null,
   "metadata": {},
   "outputs": [],
   "source": [
    "e = pf.segmentation.compute_segmentation_error(mask, gt_mask)*100\n",
    "print(f'Segmentation error of the previous example = {e:.2f}%')"
   ]
  },
  {
   "cell_type": "code",
   "execution_count": null,
   "metadata": {},
   "outputs": [],
   "source": []
  }
 ],
 "metadata": {
  "kernelspec": {
   "display_name": "Python 3 (ipykernel)",
   "language": "python",
   "name": "python3"
  },
  "language_info": {
   "codemirror_mode": {
    "name": "ipython",
    "version": 3
   },
   "file_extension": ".py",
   "mimetype": "text/x-python",
   "name": "python",
   "nbconvert_exporter": "python",
   "pygments_lexer": "ipython3",
   "version": "3.10.12"
  }
 },
 "nbformat": 4,
 "nbformat_minor": 4
}
