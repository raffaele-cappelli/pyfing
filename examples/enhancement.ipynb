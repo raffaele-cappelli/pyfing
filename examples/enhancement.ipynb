{
 "cells": [
  {
   "cell_type": "markdown",
   "metadata": {},
   "source": [
    "# Fingerprint enhancement module"
   ]
  },
  {
   "cell_type": "code",
   "execution_count": null,
   "metadata": {},
   "outputs": [],
   "source": [
    "import numpy as np\n",
    "import cv2 as cv\n",
    "from ipywidgets import interact\n",
    "import pyfing as pf\n",
    "from pyfing.utils.notebook import show\n",
    "from pyfing.utils.drawing import draw_orientations, draw_frequencies"
   ]
  },
  {
   "cell_type": "code",
   "execution_count": null,
   "metadata": {},
   "outputs": [],
   "source": [
    "# Paths\n",
    "PATH_FFE = '../../datasets/FFE/'"
   ]
  },
  {
   "cell_type": "markdown",
   "metadata": {},
   "source": [
    "Example: fingerprint segmentation with GMFS, orientation estimation with GBFOE, frequency estimation with XSFFE, and enhancement with GBFEN."
   ]
  },
  {
   "cell_type": "code",
   "execution_count": null,
   "metadata": {},
   "outputs": [],
   "source": [
    "fingerprint = cv.imread(PATH_FFE + 'Good/110.png', cv.IMREAD_GRAYSCALE)\n",
    "gmfs = pf.Gmfs()\n",
    "gbfoe = pf.Gbfoe()\n",
    "xsffe = pf.Xsffe()\n",
    "gbfen = pf.Gbfen()\n",
    "segmentation_mask = gmfs.run(fingerprint)\n",
    "orientations, _ = gbfoe.run(fingerprint, segmentation_mask)\n",
    "frequencies = xsffe.run(fingerprint, segmentation_mask, orientations)\n",
    "enhanced = gbfen.run(fingerprint, segmentation_mask, orientations, frequencies)\n",
    "show(fingerprint, segmentation_mask, \n",
    "     draw_orientations(fingerprint, orientations, segmentation_mask, 1, 8, (0,255,0)),\n",
    "     draw_frequencies(fingerprint, frequencies, segmentation_mask),\n",
    "     enhanced & segmentation_mask)"
   ]
  },
  {
   "cell_type": "markdown",
   "metadata": {},
   "source": [
    "Example: fingerprint segmentation with SUFS, orientation estimation with SNFOE, frequency estimation with SNFFE, and enhancement with SNFEN."
   ]
  },
  {
   "cell_type": "code",
   "execution_count": null,
   "metadata": {},
   "outputs": [],
   "source": [
    "fingerprint = cv.imread(PATH_FFE + 'Bad/00.png', cv.IMREAD_GRAYSCALE)\n",
    "sufs = pf.Sufs()\n",
    "snfoe = pf.Snfoe()\n",
    "snffe = pf.Snffe()\n",
    "snfen = pf.Snfen()\n",
    "segmentation_mask = sufs.run(fingerprint)\n",
    "orientations, _ = snfoe.run(fingerprint, segmentation_mask)\n",
    "frequencies = snffe.run(fingerprint, segmentation_mask, orientations)\n",
    "enhanced = snfen.run(fingerprint, segmentation_mask, orientations, frequencies)\n",
    "show(fingerprint, segmentation_mask, \n",
    "     draw_orientations(fingerprint, orientations, segmentation_mask, 1, 16, (0,255,0)),\n",
    "     draw_frequencies(fingerprint, frequencies, segmentation_mask),\n",
    "     enhanced & segmentation_mask)"
   ]
  }
 ],
 "metadata": {
  "kernelspec": {
   "display_name": "Python 3",
   "language": "python",
   "name": "python3"
  },
  "language_info": {
   "codemirror_mode": {
    "name": "ipython",
    "version": 3
   },
   "file_extension": ".py",
   "mimetype": "text/x-python",
   "name": "python",
   "nbconvert_exporter": "python",
   "pygments_lexer": "ipython3",
   "version": "3.10.12"
  }
 },
 "nbformat": 4,
 "nbformat_minor": 4
}
