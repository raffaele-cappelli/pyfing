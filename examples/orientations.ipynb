{
 "cells": [
  {
   "cell_type": "markdown",
   "metadata": {},
   "source": [
    "# Fingerprint orientation estimation module"
   ]
  },
  {
   "cell_type": "code",
   "execution_count": null,
   "metadata": {},
   "outputs": [],
   "source": [
    "import numpy as np\n",
    "import cv2 as cv\n",
    "from ipywidgets import interact\n",
    "import pyfing as pf\n",
    "from pyfing.utils.foe import load_foe_test_db\n",
    "from pyfing.orientations import compute_orientation_RMSD\n",
    "from pyfing.utils.notebook import show\n",
    "from pyfing.utils.drawing import draw_orientations"
   ]
  },
  {
   "cell_type": "code",
   "execution_count": null,
   "metadata": {},
   "outputs": [],
   "source": [
    "# Paths\n",
    "PATH_FOE_TEST = '../../datasets/FOE-Test/'"
   ]
  },
  {
   "cell_type": "markdown",
   "metadata": {},
   "source": [
    "## 1. Basic examples"
   ]
  },
  {
   "cell_type": "markdown",
   "metadata": {},
   "source": [
    "Example: fingerprint segmentation with GMFS and orientation estimation with GBFOE."
   ]
  },
  {
   "cell_type": "code",
   "execution_count": null,
   "metadata": {},
   "outputs": [],
   "source": [
    "fingerprint = cv.imread(PATH_FOE_TEST + 'Good/110.bmp', cv.IMREAD_GRAYSCALE)\n",
    "gmfs = pf.Gmfs()\n",
    "gbfoe = pf.Gbfoe()\n",
    "segmentation_mask = gmfs.run(fingerprint)\n",
    "orientations, _ = gbfoe.run(fingerprint, segmentation_mask)\n",
    "show(fingerprint, segmentation_mask, draw_orientations(fingerprint, orientations, segmentation_mask, 1, 8, (0,255,0)))"
   ]
  },
  {
   "cell_type": "markdown",
   "metadata": {},
   "source": [
    "Example: fingerprint segmentation with SUFS and orientation estimation with SNFOE."
   ]
  },
  {
   "cell_type": "code",
   "execution_count": null,
   "metadata": {},
   "outputs": [],
   "source": [
    "fingerprint = cv.imread(PATH_FOE_TEST + 'Bad/00.bmp', cv.IMREAD_GRAYSCALE)\n",
    "sufs = pf.Sufs(models_folder=\"../models/\")\n",
    "snfoe = pf.Snfoe(model_weights='../models/SNFOE_weights')\n",
    "segmentation_mask = sufs.run(fingerprint)\n",
    "orientations, _ = snfoe.run(fingerprint, segmentation_mask)\n",
    "show(fingerprint, segmentation_mask, draw_orientations(fingerprint, orientations, segmentation_mask, 1, 16, (0,255,0)))"
   ]
  },
  {
   "cell_type": "markdown",
   "metadata": {},
   "source": [
    "## 2. Comparison with the ground truth"
   ]
  },
  {
   "cell_type": "code",
   "execution_count": null,
   "metadata": {},
   "outputs": [],
   "source": [
    "foe_test_bad = load_foe_test_db(PATH_FOE_TEST + 'Bad')"
   ]
  },
  {
   "cell_type": "code",
   "execution_count": null,
   "metadata": {},
   "outputs": [],
   "source": [
    "@interact(i=(0,49))\n",
    "def test_foe_test_bad(i=0):\n",
    "    f, m, gt_or, gt_mask, dpi = foe_test_bad[i]\n",
    "    o, _ = snfoe.run(f, m)\n",
    "    rmsd = compute_orientation_RMSD(o, gt_or, gt_mask)\n",
    "    show((f, f'{i}'), (draw_orientations(f, o, m, 1, 16, (0,255,0)), f'RMSD={rmsd:.2f}°'))"
   ]
  },
  {
   "cell_type": "code",
   "execution_count": null,
   "metadata": {},
   "outputs": [],
   "source": []
  }
 ],
 "metadata": {
  "kernelspec": {
   "display_name": "Python 3 (ipykernel)",
   "language": "python",
   "name": "python3"
  },
  "language_info": {
   "codemirror_mode": {
    "name": "ipython",
    "version": 3
   },
   "file_extension": ".py",
   "mimetype": "text/x-python",
   "name": "python",
   "nbconvert_exporter": "python",
   "pygments_lexer": "ipython3",
   "version": "3.10.12"
  }
 },
 "nbformat": 4,
 "nbformat_minor": 4
}
