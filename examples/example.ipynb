{
 "cells": [
  {
   "cell_type": "code",
   "execution_count": null,
   "id": "49a01f26",
   "metadata": {},
   "outputs": [],
   "source": [
    "import cv2 as cv\n",
    "import pyfing as pf\n",
    "from pyfing.utils.notebook import show\n",
    "from pyfing.utils.drawing import draw_orientations"
   ]
  },
  {
   "cell_type": "markdown",
   "id": "f163e843",
   "metadata": {},
   "source": [
    "## Simple example using the high-level API"
   ]
  },
  {
   "cell_type": "code",
   "execution_count": null,
   "id": "d33fd37b",
   "metadata": {},
   "outputs": [],
   "source": [
    "fingerprint = cv.imread('../datasets/fvc2000/db2_b/101_1.png', cv.IMREAD_GRAYSCALE)\n",
    "segmentation_mask = pf.segmentation(fingerprint)\n",
    "orientations = pf.orientation_field_estimation(fingerprint, segmentation_mask)\n",
    "show(draw_orientations(fingerprint, orientations, segmentation_mask, 1, 16, (255, 32, 32)))"
   ]
  }
 ],
 "metadata": {
  "kernelspec": {
   "display_name": "Python 3 (ipykernel)",
   "language": "python",
   "name": "python3"
  },
  "language_info": {
   "codemirror_mode": {
    "name": "ipython",
    "version": 3
   },
   "file_extension": ".py",
   "mimetype": "text/x-python",
   "name": "python",
   "nbconvert_exporter": "python",
   "pygments_lexer": "ipython3",
   "version": "3.10.12"
  }
 },
 "nbformat": 4,
 "nbformat_minor": 5
}
